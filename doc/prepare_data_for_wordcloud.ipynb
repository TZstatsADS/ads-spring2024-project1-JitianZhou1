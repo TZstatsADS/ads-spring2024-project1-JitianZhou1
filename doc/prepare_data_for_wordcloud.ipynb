{
 "cells": [
  {
   "cell_type": "code",
   "execution_count": 3,
   "id": "d3da981d",
   "metadata": {},
   "outputs": [],
   "source": [
    "import numpy as np\n",
    "import matplotlib.pyplot as plt\n",
    "import seaborn as sns\n",
    "import plotly.express as p\n",
    "import pandas as pd\n",
    "import os"
   ]
  },
  {
   "cell_type": "code",
   "execution_count": 18,
   "id": "8a38743c",
   "metadata": {},
   "outputs": [],
   "source": [
    "# read data\n",
    "data_path=os.path.join(os.getcwd(), '..', 'data/')\n",
    "cleaned_hm=pd.read_csv(data_path+\"cleaned_hm.csv\")\n",
    "demographic_df=pd.read_csv(data_path+\"demographic.csv\", index_col=0)\n",
    "topic_list=[\"entertainment\",\"exercise\",\"family\",\"food\",\"people\",\"pets\",\"school\",\"shopping\",\"work\"]\n",
    "#topic_list=[\"school\"]\n",
    "keywords=[]\n",
    "for topic in topic_list:\n",
    "    df = pd.read_csv(data_path+topic+\".csv\", index_col=0)\n",
    "    keywords.extend(df[df.columns[0]].to_list())"
   ]
  },
  {
   "cell_type": "code",
   "execution_count": 19,
   "id": "0b367a46",
   "metadata": {},
   "outputs": [],
   "source": [
    "demographic=demographic_df.copy()\n",
    "demographic=demographic[demographic['age'].notna()]\n",
    "demographic=demographic[demographic[\"age\"].str.match(r'^[0-9]+(\\.[0-9]+)?$')]\n",
    "demographic[\"age\"]=demographic[\"age\"].astype(float)"
   ]
  },
  {
   "cell_type": "code",
   "execution_count": 35,
   "id": "fcd207b1",
   "metadata": {},
   "outputs": [],
   "source": []
  },
  {
   "cell_type": "code",
   "execution_count": 38,
   "id": "6116ffe6",
   "metadata": {},
   "outputs": [],
   "source": [
    "import os\n",
    "processed_moments_folder = os.path.join(os.getcwd(), '..', 'output/')\n",
    "processed_moments_df=pd.read_csv(processed_moments_folder+'processed_moments.csv', index_col=0)\n",
    "processed_moments_df=processed_moments_df.merge(demographic_df[[\"age\",\"wid\"]],on=\"wid\")\n",
    "\n",
    "processed_moments_df=processed_moments_df.copy().dropna()\n",
    "processed_moments_df=processed_moments_df[processed_moments_df[\"age\"].str.match(r'^[0-9]+(\\.[0-9]+)?$')]\n",
    "processed_moments_df[\"age\"]=processed_moments_df[\"age\"].astype(float)\n",
    "df_age_less=processed_moments_df[processed_moments_df[\"age\"]<25].drop([\"age\"],axis=1)\n",
    "df_age_more=processed_moments_df[processed_moments_df[\"age\"]>=35].drop([\"age\"],axis=1)"
   ]
  },
  {
   "cell_type": "code",
   "execution_count": 46,
   "id": "7482dfc5",
   "metadata": {},
   "outputs": [],
   "source": [
    "df_age_less.to_csv(\"../output/age_less_than_25.csv\")\n",
    "df_age_more.to_csv(\"../output/age_more_than_35.csv\")"
   ]
  },
  {
   "cell_type": "code",
   "execution_count": 47,
   "id": "29d9f46a",
   "metadata": {},
   "outputs": [
    {
     "data": {
      "text/plain": [
       "2621"
      ]
     },
     "execution_count": 47,
     "metadata": {},
     "output_type": "execute_result"
    }
   ],
   "source": [
    "len(df_age_less)"
   ]
  },
  {
   "cell_type": "code",
   "execution_count": 48,
   "id": "89497f1a",
   "metadata": {},
   "outputs": [
    {
     "data": {
      "text/plain": [
       "4053"
      ]
     },
     "execution_count": 48,
     "metadata": {},
     "output_type": "execute_result"
    }
   ],
   "source": [
    "len(df_age_more)"
   ]
  },
  {
   "cell_type": "code",
   "execution_count": null,
   "id": "7403bc87",
   "metadata": {},
   "outputs": [],
   "source": []
  }
 ],
 "metadata": {
  "kernelspec": {
   "display_name": "Python 3 (ipykernel)",
   "language": "python",
   "name": "python3"
  },
  "language_info": {
   "codemirror_mode": {
    "name": "ipython",
    "version": 3
   },
   "file_extension": ".py",
   "mimetype": "text/x-python",
   "name": "python",
   "nbconvert_exporter": "python",
   "pygments_lexer": "ipython3",
   "version": "3.9.12"
  }
 },
 "nbformat": 4,
 "nbformat_minor": 5
}
